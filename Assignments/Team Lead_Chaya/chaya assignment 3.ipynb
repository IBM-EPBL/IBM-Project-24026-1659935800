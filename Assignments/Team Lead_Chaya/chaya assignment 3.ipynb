{
  "nbformat": 4,
  "nbformat_minor": 0,
  "metadata": {
    "colab": {
      "provenance": [],
      "collapsed_sections": []
    },
    "kernelspec": {
      "name": "python3",
      "display_name": "Python 3"
    },
    "language_info": {
      "name": "python"
    },
    "accelerator": "GPU"
  },
  "cells": [
    {
      "cell_type": "code",
      "execution_count": null,
      "metadata": {
        "id": "790F9La94J9R",
        "colab": {
          "base_uri": "https://localhost:8080/"
        },
        "outputId": "6050d822-0eb8-450e-db64-5fc445f73658"
      },
      "outputs": [
        {
          "output_type": "stream",
          "name": "stdout",
          "text": [
            "unzip:  cannot find or open /content/drive/MyDrive/Colab Notebooks/Flowers-Dataset.zip, /content/drive/MyDrive/Colab Notebooks/Flowers-Dataset.zip.zip or /content/drive/MyDrive/Colab Notebooks/Flowers-Dataset.zip.ZIP.\n"
          ]
        }
      ],
      "source": [
        "!unzip '/content/drive/MyDrive/Colab Notebooks/Flowers-Dataset.zip' -d '/content/drive/MyDrive'"
      ]
    },
    {
      "cell_type": "code",
      "source": [
        "!pip install split-folders"
      ],
      "metadata": {
        "colab": {
          "base_uri": "https://localhost:8080/"
        },
        "id": "cuamKsPTsh-o",
        "outputId": "2b04ff38-0aa1-48cb-e423-e1b4e34946dc"
      },
      "execution_count": null,
      "outputs": [
        {
          "output_type": "stream",
          "name": "stdout",
          "text": [
            "Looking in indexes: https://pypi.org/simple, https://us-python.pkg.dev/colab-wheels/public/simple/\n",
            "Collecting split-folders\n",
            "  Downloading split_folders-0.5.1-py3-none-any.whl (8.4 kB)\n",
            "Installing collected packages: split-folders\n",
            "Successfully installed split-folders-0.5.1\n"
          ]
        }
      ]
    },
    {
      "cell_type": "code",
      "source": [
        "import splitfolders\n",
        "input_folder = \"/content/drive/MyDrive/flowers\"\n",
        "output = \"/content/drive/MyDrive/flowers\"\n",
        "splitfolders.ratio(input_folder, output=output, seed=42, ratio=(.80,.20))"
      ],
      "metadata": {
        "id": "Uf4PD4N_wQYP",
        "colab": {
          "base_uri": "https://localhost:8080/",
          "height": 345
        },
        "outputId": "c651b098-3b7d-4d31-9f39-96e5c885ecc6"
      },
      "execution_count": null,
      "outputs": [
        {
          "output_type": "error",
          "ename": "ValueError",
          "evalue": "ignored",
          "traceback": [
            "\u001b[0;31m---------------------------------------------------------------------------\u001b[0m",
            "\u001b[0;31mValueError\u001b[0m                                Traceback (most recent call last)",
            "\u001b[0;32m<ipython-input-4-eb678e3cc4d3>\u001b[0m in \u001b[0;36m<module>\u001b[0;34m\u001b[0m\n\u001b[1;32m      2\u001b[0m \u001b[0minput_folder\u001b[0m \u001b[0;34m=\u001b[0m \u001b[0;34m\"/content/drive/MyDrive/flowers\"\u001b[0m\u001b[0;34m\u001b[0m\u001b[0;34m\u001b[0m\u001b[0m\n\u001b[1;32m      3\u001b[0m \u001b[0moutput\u001b[0m \u001b[0;34m=\u001b[0m \u001b[0;34m\"/content/drive/MyDrive/flowers\"\u001b[0m\u001b[0;34m\u001b[0m\u001b[0;34m\u001b[0m\u001b[0m\n\u001b[0;32m----> 4\u001b[0;31m \u001b[0msplitfolders\u001b[0m\u001b[0;34m.\u001b[0m\u001b[0mratio\u001b[0m\u001b[0;34m(\u001b[0m\u001b[0minput_folder\u001b[0m\u001b[0;34m,\u001b[0m \u001b[0moutput\u001b[0m\u001b[0;34m=\u001b[0m\u001b[0moutput\u001b[0m\u001b[0;34m,\u001b[0m \u001b[0mseed\u001b[0m\u001b[0;34m=\u001b[0m\u001b[0;36m42\u001b[0m\u001b[0;34m,\u001b[0m \u001b[0mratio\u001b[0m\u001b[0;34m=\u001b[0m\u001b[0;34m(\u001b[0m\u001b[0;36m.80\u001b[0m\u001b[0;34m,\u001b[0m\u001b[0;36m.20\u001b[0m\u001b[0;34m)\u001b[0m\u001b[0;34m)\u001b[0m\u001b[0;34m\u001b[0m\u001b[0;34m\u001b[0m\u001b[0m\n\u001b[0m",
            "\u001b[0;32m/usr/local/lib/python3.7/dist-packages/splitfolders/split.py\u001b[0m in \u001b[0;36mratio\u001b[0;34m(input, output, seed, ratio, group_prefix, move)\u001b[0m\n\u001b[1;32m     79\u001b[0m         \u001b[0;32mraise\u001b[0m \u001b[0mValueError\u001b[0m\u001b[0;34m(\u001b[0m\u001b[0;34m\"`ratio` should\"\u001b[0m\u001b[0;34m)\u001b[0m\u001b[0;34m\u001b[0m\u001b[0;34m\u001b[0m\u001b[0m\n\u001b[1;32m     80\u001b[0m \u001b[0;34m\u001b[0m\u001b[0m\n\u001b[0;32m---> 81\u001b[0;31m     \u001b[0mcheck_input_format\u001b[0m\u001b[0;34m(\u001b[0m\u001b[0minput\u001b[0m\u001b[0;34m)\u001b[0m\u001b[0;34m\u001b[0m\u001b[0;34m\u001b[0m\u001b[0m\n\u001b[0m\u001b[1;32m     82\u001b[0m \u001b[0;34m\u001b[0m\u001b[0m\n\u001b[1;32m     83\u001b[0m     \u001b[0;32mif\u001b[0m \u001b[0muse_tqdm\u001b[0m\u001b[0;34m:\u001b[0m\u001b[0;34m\u001b[0m\u001b[0;34m\u001b[0m\u001b[0m\n",
            "\u001b[0;32m/usr/local/lib/python3.7/dist-packages/splitfolders/split.py\u001b[0m in \u001b[0;36mcheck_input_format\u001b[0;34m(input)\u001b[0m\n\u001b[1;32m     54\u001b[0m         \u001b[0;32mif\u001b[0m \u001b[0;32mnot\u001b[0m \u001b[0mp_input\u001b[0m\u001b[0;34m.\u001b[0m\u001b[0mis_absolute\u001b[0m\u001b[0;34m(\u001b[0m\u001b[0;34m)\u001b[0m\u001b[0;34m:\u001b[0m\u001b[0;34m\u001b[0m\u001b[0;34m\u001b[0m\u001b[0m\n\u001b[1;32m     55\u001b[0m             \u001b[0merr_msg\u001b[0m \u001b[0;34m+=\u001b[0m \u001b[0;34mf' Your relative path cannot be found from the current working directory \"{Path.cwd()}\".'\u001b[0m\u001b[0;34m\u001b[0m\u001b[0;34m\u001b[0m\u001b[0m\n\u001b[0;32m---> 56\u001b[0;31m         \u001b[0;32mraise\u001b[0m \u001b[0mValueError\u001b[0m\u001b[0;34m(\u001b[0m\u001b[0merr_msg\u001b[0m\u001b[0;34m)\u001b[0m\u001b[0;34m\u001b[0m\u001b[0;34m\u001b[0m\u001b[0m\n\u001b[0m\u001b[1;32m     57\u001b[0m \u001b[0;34m\u001b[0m\u001b[0m\n\u001b[1;32m     58\u001b[0m     \u001b[0;32mif\u001b[0m \u001b[0;32mnot\u001b[0m \u001b[0mp_input\u001b[0m\u001b[0;34m.\u001b[0m\u001b[0mis_dir\u001b[0m\u001b[0;34m(\u001b[0m\u001b[0;34m)\u001b[0m\u001b[0;34m:\u001b[0m\u001b[0;34m\u001b[0m\u001b[0;34m\u001b[0m\u001b[0m\n",
            "\u001b[0;31mValueError\u001b[0m: The provided input folder \"/content/drive/MyDrive/flowers\" does not exists."
          ]
        }
      ]
    },
    {
      "cell_type": "code",
      "source": [
        "#To define linear intialisation import Sequential \n",
        "from keras.models import Sequential\n",
        "#To add Layers import Dense\n",
        "from keras.layers import Dense\n",
        "#To create Convolution kernel import convolution2D\n",
        "from keras.layers import Convolution2D\n",
        "#import Maxpooling layer\n",
        "from keras.layers import MaxPooling2D\n",
        "#import Flatten Layer\n",
        "from keras.layers import Flatten\n",
        "from keras.models import load_model\n",
        "\n",
        "import warnings\n",
        "warnings.filterwarnings('ignore')"
      ],
      "metadata": {
        "id": "sh2KaRtlsMiB"
      },
      "execution_count": null,
      "outputs": []
    },
    {
      "cell_type": "code",
      "source": [
        "#Image Augmentation\n",
        "import keras  \n",
        "from keras.preprocessing.image import ImageDataGenerator\n",
        "def getdata():\n",
        "    train_datagen=ImageDataGenerator (rescale=1./255,\n",
        "                                        shear_range=0.2,\n",
        "                                        rotation_range=180,\n",
        "                                        zoom_range=0.2,\n",
        "                                        horizontal_flip=True)\n",
        "\n",
        "    test_datagen=ImageDataGenerator (rescale=1./255)\n",
        "\n",
        "    test_path = \"/content/drive/MyDrive/flowers/test\"\n",
        "\n",
        "    train_path = \"/content/drive/MyDrive/flowers/train\"\n",
        "\n",
        "    x_train = train_datagen.flow_from_directory(train_path,\n",
        "                                                target_size = (64,64),\n",
        "                                                batch_size = 32,\n",
        "                                                class_mode= 'categorical')\n",
        "\n",
        "    x_test = test_datagen.flow_from_directory(test_path,\n",
        "                                                target_size = (64,64),\n",
        "                                                batch_size = 32,\n",
        "                                                class_mode= 'categorical')\n",
        "    return x_train, x_test"
      ],
      "metadata": {
        "id": "9QceJ-PQrwXF"
      },
      "execution_count": null,
      "outputs": []
    },
    {
      "cell_type": "code",
      "source": [
        "xtrain, xtest = getdata()"
      ],
      "metadata": {
        "colab": {
          "base_uri": "https://localhost:8080/"
        },
        "id": "iePeXNqTyVue",
        "outputId": "62216c18-6f35-4a4e-c4c8-3625d1cf1948"
      },
      "execution_count": null,
      "outputs": [
        {
          "output_type": "stream",
          "name": "stdout",
          "text": [
            "Found 3452 images belonging to 5 classes.\n",
            "Found 865 images belonging to 5 classes.\n"
          ]
        }
      ]
    },
    {
      "cell_type": "code",
      "source": [
        "#model creation\n",
        "model = Sequential()\n",
        "model.add(Convolution2D(32,(2,2),activation='relu',input_shape=(64,64,3))) \n",
        "model.add(MaxPooling2D(pool_size=(3,3)))\n",
        "model.add(Flatten())\n",
        "model.add(Dense(300,activation='relu')) \n",
        "model.add(Dense(150,activation='relu'))\n",
        "model.add(Dense(5,activation='softmax'))"
      ],
      "metadata": {
        "id": "bEZhWU02yysZ"
      },
      "execution_count": null,
      "outputs": []
    },
    {
      "cell_type": "code",
      "source": [
        "#Compile model\n",
        "model.compile(optimizer='adam',loss='categorical_crossentropy',metrics=['accuracy'])"
      ],
      "metadata": {
        "id": "Wuf9o-sU1rfJ"
      },
      "execution_count": null,
      "outputs": []
    },
    {
      "cell_type": "code",
      "source": [
        "from keras.callbacks import EarlyStopping, ReduceLROnPlateau\n",
        "early_stopping = EarlyStopping(monitor='val_loss',\n",
        "                        patience=5)\n",
        "reduce_lr = ReduceLROnPlateau(monitor='val_loss',\n",
        "                        patience=5,\n",
        "                        factor=0.5,min_lr=0.0001)\n",
        "\n",
        "callback = [reduce_lr,early_stopping]"
      ],
      "metadata": {
        "id": "iT9SBjkm3R3W"
      },
      "execution_count": null,
      "outputs": []
    },
    {
      "cell_type": "code",
      "source": [
        "# Fit model\n",
        "\n",
        "model.fit_generator(xtrain,\n",
        "                    steps_per_epoch=len(xtrain),\n",
        "                    epochs=100,\n",
        "                    callbacks=callback,\n",
        "                    validation_data=xtest,\n",
        "                    validation_steps=len(xtest))"
      ],
      "metadata": {
        "colab": {
          "base_uri": "https://localhost:8080/"
        },
        "id": "oji8wpwX3yph",
        "outputId": "74115823-ab61-47a6-a216-2070f1c1171d"
      },
      "execution_count": null,
      "outputs": [
        {
          "output_type": "stream",
          "name": "stdout",
          "text": [
            "Epoch 1/100\n",
            "108/108 [==============================] - 290s 3s/step - loss: 1.1532 - accuracy: 0.5209 - val_loss: 1.1737 - val_accuracy: 0.5272 - lr: 0.0010\n",
            "Epoch 2/100\n",
            "108/108 [==============================] - 19s 179ms/step - loss: 1.0680 - accuracy: 0.5675 - val_loss: 0.9641 - val_accuracy: 0.6150 - lr: 0.0010\n",
            "Epoch 3/100\n",
            "108/108 [==============================] - 19s 178ms/step - loss: 1.0042 - accuracy: 0.5999 - val_loss: 1.0389 - val_accuracy: 0.6069 - lr: 0.0010\n",
            "Epoch 4/100\n",
            "108/108 [==============================] - 19s 179ms/step - loss: 0.9586 - accuracy: 0.6260 - val_loss: 1.1041 - val_accuracy: 0.6081 - lr: 0.0010\n",
            "Epoch 5/100\n",
            "108/108 [==============================] - 19s 178ms/step - loss: 0.9339 - accuracy: 0.6327 - val_loss: 0.9852 - val_accuracy: 0.6000 - lr: 0.0010\n",
            "Epoch 6/100\n",
            "108/108 [==============================] - 20s 187ms/step - loss: 0.8925 - accuracy: 0.6527 - val_loss: 0.9930 - val_accuracy: 0.6035 - lr: 0.0010\n",
            "Epoch 7/100\n",
            "108/108 [==============================] - 19s 179ms/step - loss: 0.8684 - accuracy: 0.6573 - val_loss: 0.9074 - val_accuracy: 0.6370 - lr: 0.0010\n",
            "Epoch 8/100\n",
            "108/108 [==============================] - 19s 178ms/step - loss: 0.8695 - accuracy: 0.6680 - val_loss: 0.9062 - val_accuracy: 0.6451 - lr: 0.0010\n",
            "Epoch 9/100\n",
            "108/108 [==============================] - 19s 177ms/step - loss: 0.8401 - accuracy: 0.6692 - val_loss: 0.9223 - val_accuracy: 0.6474 - lr: 0.0010\n",
            "Epoch 10/100\n",
            "108/108 [==============================] - 19s 178ms/step - loss: 0.8331 - accuracy: 0.6773 - val_loss: 0.9083 - val_accuracy: 0.6509 - lr: 0.0010\n",
            "Epoch 11/100\n",
            "108/108 [==============================] - 19s 178ms/step - loss: 0.8176 - accuracy: 0.6840 - val_loss: 0.9258 - val_accuracy: 0.6220 - lr: 0.0010\n",
            "Epoch 12/100\n",
            "108/108 [==============================] - 19s 178ms/step - loss: 0.7976 - accuracy: 0.6895 - val_loss: 0.8600 - val_accuracy: 0.6636 - lr: 0.0010\n",
            "Epoch 13/100\n",
            "108/108 [==============================] - 19s 179ms/step - loss: 0.8004 - accuracy: 0.6886 - val_loss: 0.9107 - val_accuracy: 0.6335 - lr: 0.0010\n",
            "Epoch 14/100\n",
            "108/108 [==============================] - 19s 177ms/step - loss: 0.8012 - accuracy: 0.6895 - val_loss: 0.8725 - val_accuracy: 0.6486 - lr: 0.0010\n",
            "Epoch 15/100\n",
            "108/108 [==============================] - 19s 176ms/step - loss: 0.7709 - accuracy: 0.7028 - val_loss: 0.8736 - val_accuracy: 0.6566 - lr: 0.0010\n",
            "Epoch 16/100\n",
            "108/108 [==============================] - 19s 176ms/step - loss: 0.7621 - accuracy: 0.6961 - val_loss: 0.8916 - val_accuracy: 0.6659 - lr: 0.0010\n",
            "Epoch 17/100\n",
            "108/108 [==============================] - 20s 186ms/step - loss: 0.7601 - accuracy: 0.7115 - val_loss: 0.9284 - val_accuracy: 0.6474 - lr: 0.0010\n"
          ]
        },
        {
          "output_type": "execute_result",
          "data": {
            "text/plain": [
              "<keras.callbacks.History at 0x7f4b502e7b90>"
            ]
          },
          "metadata": {},
          "execution_count": 17
        }
      ]
    },
    {
      "cell_type": "code",
      "source": [
        "#save model\n",
        "model.save('flower.h5')"
      ],
      "metadata": {
        "id": "fAsU_1dpWj-7"
      },
      "execution_count": null,
      "outputs": []
    },
    {
      "cell_type": "code",
      "source": [
        "import numpy as np\n",
        "from tensorflow.keras.preprocessing import image\n",
        "img = image.load_img('/content/drive/MyDrive/flowers/test/rose/11233672494_d8bf0a3dbf_n.jpg',target_size=(64,64))"
      ],
      "metadata": {
        "id": "kdRnTIsLZyLF"
      },
      "execution_count": null,
      "outputs": []
    },
    {
      "cell_type": "code",
      "source": [
        "img"
      ],
      "metadata": {
        "colab": {
          "base_uri": "https://localhost:8080/",
          "height": 81
        },
        "id": "oIy8NFt-a97O",
        "outputId": "470bd2ed-02e2-47fe-9c02-8806166282e1"
      },
      "execution_count": null,
      "outputs": [
        {
          "output_type": "execute_result",
          "data": {
            "text/plain": [
              "<PIL.Image.Image image mode=RGB size=64x64 at 0x7F4B502BE290>"
            ],
            "image/png": "[encoded data removed]"
          },
          "metadata": {},
          "execution_count": 20
        }
      ]
    },
    {
      "cell_type": "code",
      "source": [
        "x = image.img_to_array(img)\n",
        "x = np.expand_dims(x,axis=0)\n",
        "x"
      ],
      "metadata": {
        "id": "JS2P4pACbA1I"
      },
      "execution_count": null,
      "outputs": []
    },
    {
      "cell_type": "code",
      "source": [
        "model.predict(x)"
      ],
      "metadata": {
        "colab": {
          "base_uri": "https://localhost:8080/"
        },
        "id": "J9xq2uwIbL41",
        "outputId": "67810a19-6d84-4e85-8add-b617c425c796"
      },
      "execution_count": null,
      "outputs": [
        {
          "output_type": "execute_result",
          "data": {
            "text/plain": [
              "array([[1.0000000e+00, 0.0000000e+00, 1.2482715e-15, 0.0000000e+00,\n",
              "        0.0000000e+00]], dtype=float32)"
            ]
          },
          "metadata": {},
          "execution_count": 22
        }
      ]
    },
    {
      "cell_type": "code",
      "source": [
        "xtrain.class_indices"
      ],
      "metadata": {
        "colab": {
          "base_uri": "https://localhost:8080/"
        },
        "id": "mXXaQ6zKbOJh",
        "outputId": "0227745a-9aaa-40ae-e186-96bf462cfdf7"
      },
      "execution_count": null,
      "outputs": [
        {
          "output_type": "execute_result",
          "data": {
            "text/plain": [
              "{'daisy': 0, 'dandelion': 1, 'rose': 2, 'sunflower': 3, 'tulip': 4}"
            ]
          },
          "metadata": {},
          "execution_count": 23
        }
      ]
    },
    {
      "cell_type": "code",
      "source": [
        "from google.colab import drive\n",
        "drive.mount('/content/drive')"
      ],
      "metadata": {
        "colab": {
          "base_uri": "https://localhost:8080/"
        },
        "id": "gpVYrT_PKIE_",
        "outputId": "22f6841d-51fe-4e6c-822f-588a6d0e2328"
      },
      "execution_count": null,
      "outputs": [
        {
          "output_type": "stream",
          "name": "stdout",
          "text": [
            "Mounted at /content/drive\n"
          ]
        }
      ]
    },
    {
      "cell_type": "code",
      "source": [
        "op = ['daisy', 'dandelion', 'rose', 'sunflower', 'tulip']\n",
        "pred = np.argmax(model.predict(x))\n",
        "op[pred]"
      ],
      "metadata": {
        "colab": {
          "base_uri": "https://localhost:8080/",
          "height": 35
        },
        "id": "eIXGqFe2bPqe",
        "outputId": "8e584e58-5e78-4ab0-a008-b5206348add5"
      },
      "execution_count": null,
      "outputs": [
        {
          "output_type": "execute_result",
          "data": {
            "text/plain": [
              "'daisy'"
            ],
            "application/vnd.google.colaboratory.intrinsic+json": {
              "type": "string"
            }
          },
          "metadata": {},
          "execution_count": 24
        }
      ]
    }
  ]
}